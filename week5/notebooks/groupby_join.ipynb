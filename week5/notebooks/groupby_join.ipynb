{
 "cells": [
  {
   "cell_type": "code",
   "execution_count": 1,
   "id": "4341e0e6",
   "metadata": {
    "scrolled": true
   },
   "outputs": [
    {
     "name": "stderr",
     "output_type": "stream",
     "text": [
      "23/11/16 08:28:17 WARN Utils: Your hostname, ante-ThinkPad-T15-Gen-2i resolves to a loopback address: 127.0.1.1; using 192.168.6.93 instead (on interface wlp0s20f3)\n",
      "23/11/16 08:28:17 WARN Utils: Set SPARK_LOCAL_IP if you need to bind to another address\n",
      "Setting default log level to \"WARN\".\n",
      "To adjust logging level use sc.setLogLevel(newLevel). For SparkR, use setLogLevel(newLevel).\n",
      "23/11/16 08:28:18 WARN NativeCodeLoader: Unable to load native-hadoop library for your platform... using builtin-java classes where applicable\n"
     ]
    }
   ],
   "source": [
    "import pyspark\n",
    "from pyspark.sql import SparkSession\n",
    "\n",
    "spark = SparkSession.builder \\\n",
    "    .master(\"local[*]\") \\\n",
    "    .appName('test') \\\n",
    "    .getOrCreate()"
   ]
  },
  {
   "cell_type": "code",
   "execution_count": 3,
   "id": "cd304aec",
   "metadata": {
    "scrolled": true
   },
   "outputs": [],
   "source": [
    "df_green_orig = spark.read.parquet('../../data/green/*')\n",
    "\n",
    "\n",
    "df_green_repartitioned = df_green_orig.repartition(4)\n",
    "\n",
    "df_green_repartitioned.write.parquet('../../data/pq/green', mode='overwrite')"
   ]
  },
  {
   "cell_type": "code",
   "execution_count": 4,
   "id": "b50c5358",
   "metadata": {
    "scrolled": true
   },
   "outputs": [
    {
     "name": "stderr",
     "output_type": "stream",
     "text": [
      "                                                                                \r"
     ]
    }
   ],
   "source": [
    "df_yellow_orig = spark.read.parquet('../../data/yellow/*')\n",
    "\n",
    "\n",
    "df_yellow_repartitioned = df_yellow_orig.repartition(4)\n",
    "\n",
    "df_yellow_repartitioned.write.parquet('../../data/pq/yellow', mode='overwrite')"
   ]
  },
  {
   "cell_type": "code",
   "execution_count": 5,
   "id": "fd583105",
   "metadata": {
    "scrolled": true
   },
   "outputs": [],
   "source": [
    "df_green = spark.read.parquet('../../data/pq/green/*')"
   ]
  },
  {
   "cell_type": "code",
   "execution_count": 6,
   "id": "243991f3",
   "metadata": {},
   "outputs": [
    {
     "name": "stderr",
     "output_type": "stream",
     "text": [
      "/home/ante/.local/lib/python3.10/site-packages/pyspark/sql/dataframe.py:330: FutureWarning: Deprecated in 2.0, use createOrReplaceTempView instead.\n",
      "  warnings.warn(\"Deprecated in 2.0, use createOrReplaceTempView instead.\", FutureWarning)\n"
     ]
    }
   ],
   "source": [
    "df_green.registerTempTable('green')"
   ]
  },
  {
   "cell_type": "code",
   "execution_count": 7,
   "id": "5b52cec1",
   "metadata": {},
   "outputs": [
    {
     "data": {
      "text/plain": [
       "['VendorID',\n",
       " 'lpep_pickup_datetime',\n",
       " 'lpep_dropoff_datetime',\n",
       " 'store_and_fwd_flag',\n",
       " 'RatecodeID',\n",
       " 'PULocationID',\n",
       " 'DOLocationID',\n",
       " 'passenger_count',\n",
       " 'trip_distance',\n",
       " 'fare_amount',\n",
       " 'extra',\n",
       " 'mta_tax',\n",
       " 'tip_amount',\n",
       " 'tolls_amount',\n",
       " 'ehail_fee',\n",
       " 'improvement_surcharge',\n",
       " 'total_amount',\n",
       " 'payment_type',\n",
       " 'trip_type',\n",
       " 'congestion_surcharge']"
      ]
     },
     "execution_count": 7,
     "metadata": {},
     "output_type": "execute_result"
    }
   ],
   "source": [
    "df_green.columns"
   ]
  },
  {
   "cell_type": "code",
   "execution_count": 9,
   "id": "e43764a7",
   "metadata": {},
   "outputs": [],
   "source": [
    "df_green_revenue = spark.sql(\"\"\"\n",
    "SELECT \n",
    "    date_trunc('HOUR', lpep_pickup_datetime) AS hour, \n",
    "    PULocationID AS zone,\n",
    "\n",
    "    SUM(total_amount) AS amount,\n",
    "    COUNT(1) AS number_records\n",
    "FROM\n",
    "    green\n",
    "WHERE\n",
    "    lpep_pickup_datetime >= '2020-01-01 00:00:00'\n",
    "GROUP BY\n",
    "    1, 2\n",
    "\"\"\")"
   ]
  },
  {
   "cell_type": "code",
   "execution_count": 10,
   "id": "3e00310e",
   "metadata": {},
   "outputs": [],
   "source": [
    "df_green_revenue \\\n",
    "    .repartition(20) \\\n",
    "    .write.parquet('../../data/report/revenue/green', mode='overwrite')"
   ]
  },
  {
   "cell_type": "code",
   "execution_count": 11,
   "id": "8194ae5a",
   "metadata": {},
   "outputs": [
    {
     "name": "stdout",
     "output_type": "stream",
     "text": [
      "+-------------------+----+------------------+--------------+\n",
      "|               hour|zone|            amount|number_records|\n",
      "+-------------------+----+------------------+--------------+\n",
      "|2021-01-09 18:00:00|  17|            125.25|             4|\n",
      "|2021-01-15 16:00:00| 169|              21.8|             1|\n",
      "|2021-01-21 20:00:00|  43|             60.65|             5|\n",
      "|2021-01-25 17:00:00|  75|             344.0|            24|\n",
      "|2021-01-27 13:00:00| 244|386.36000000000007|            14|\n",
      "|2021-01-16 16:00:00|  95|              14.8|             1|\n",
      "|2021-01-23 15:00:00|  52|             16.32|             2|\n",
      "|2021-01-31 16:00:00|  82|              23.8|             1|\n",
      "|2021-01-27 16:00:00|  97|253.90000000000003|            13|\n",
      "|2021-01-16 17:00:00|  74|            123.97|            11|\n",
      "|2021-01-16 22:00:00|  95|             37.36|             4|\n",
      "|2021-01-15 14:00:00|  95|167.29999999999998|             9|\n",
      "|2021-01-12 16:00:00| 197| 576.4499999999999|            12|\n",
      "|2021-01-02 08:00:00| 254|             32.07|             1|\n",
      "|2021-01-14 09:00:00|  74|            277.26|            21|\n",
      "|2021-01-19 13:00:00| 189|             116.7|             4|\n",
      "|2021-01-17 10:00:00| 205|121.11999999999999|             3|\n",
      "|2021-01-19 10:00:00| 258|              30.8|             1|\n",
      "|2021-01-24 10:00:00|  42|123.32999999999998|             7|\n",
      "|2021-01-05 12:00:00| 159|             42.81|             2|\n",
      "+-------------------+----+------------------+--------------+\n",
      "only showing top 20 rows\n",
      "\n"
     ]
    }
   ],
   "source": [
    "df_green_revenue.show()"
   ]
  },
  {
   "cell_type": "code",
   "execution_count": 12,
   "id": "07ebb68c",
   "metadata": {
    "scrolled": false
   },
   "outputs": [],
   "source": [
    "df_yellow = spark.read.parquet('../../data/pq/yellow/*')\n",
    "df_yellow.registerTempTable('yellow')"
   ]
  },
  {
   "cell_type": "code",
   "execution_count": 13,
   "id": "48ca27d1",
   "metadata": {},
   "outputs": [
    {
     "name": "stdout",
     "output_type": "stream",
     "text": [
      "+--------+--------------------+---------------------+---------------+-------------+----------+------------------+------------+------------+------------+-----------+-----+-------+----------+------------+---------------------+------------+--------------------+-----------+\n",
      "|VendorID|tpep_pickup_datetime|tpep_dropoff_datetime|passenger_count|trip_distance|RatecodeID|store_and_fwd_flag|PULocationID|DOLocationID|payment_type|fare_amount|extra|mta_tax|tip_amount|tolls_amount|improvement_surcharge|total_amount|congestion_surcharge|airport_fee|\n",
      "+--------+--------------------+---------------------+---------------+-------------+----------+------------------+------------+------------+------------+-----------+-----+-------+----------+------------+---------------------+------------+--------------------+-----------+\n",
      "|       1| 2021-01-03 16:16:28|  2021-01-03 16:27:13|            1.0|          3.9|       1.0|                 N|         138|         179|           2|       13.0|  0.0|    0.5|       0.0|         0.0|                  0.3|        13.8|                 0.0|       null|\n",
      "|       2| 2021-01-11 15:20:41|  2021-01-11 15:24:56|            3.0|         0.59|       1.0|                 N|         262|         236|           2|        4.5|  0.0|    0.5|       0.0|         0.0|                  0.3|         7.8|                 2.5|       null|\n",
      "|       2| 2021-01-26 16:30:18|  2021-01-26 16:35:20|            1.0|         0.52|       1.0|                 N|         141|         140|           1|        5.0|  1.0|    0.5|      1.86|         0.0|                  0.3|       11.16|                 2.5|       null|\n",
      "|       2| 2021-01-03 20:46:31|  2021-01-03 20:49:26|            1.0|         1.21|       1.0|                 N|         137|         229|           1|        5.5|  0.5|    0.5|      1.86|         0.0|                  0.3|       11.16|                 2.5|       null|\n",
      "|       1| 2021-01-24 17:30:26|  2021-01-24 17:37:07|            1.0|          1.5|       1.0|                 N|         263|         238|           1|        7.0|  2.5|    0.5|      3.05|         0.0|                  0.3|       13.35|                 2.5|       null|\n",
      "|       1| 2021-01-16 13:33:46|  2021-01-16 13:44:02|            1.0|          2.0|       1.0|                 N|         234|          48|           1|        9.5|  2.5|    0.5|       2.0|         0.0|                  0.3|        14.8|                 2.5|       null|\n",
      "|       2| 2021-01-30 11:24:54|  2021-01-30 11:29:09|            1.0|         0.68|       1.0|                 N|         262|         263|           1|        5.0|  0.0|    0.5|      1.66|         0.0|                  0.3|        9.96|                 2.5|       null|\n",
      "|       1| 2021-01-29 14:17:19|  2021-01-29 14:26:31|            2.0|          1.2|       1.0|                 N|         229|         141|           2|        7.5|  2.5|    0.5|       0.0|         0.0|                  0.3|        10.8|                 2.5|       null|\n",
      "|       2| 2021-01-22 16:59:07|  2021-01-22 17:04:03|            1.0|         0.68|       1.0|                 N|         249|         114|           1|        5.0|  1.0|    0.5|       1.0|         0.0|                  0.3|        10.3|                 2.5|       null|\n",
      "|       2| 2021-01-26 23:08:55|  2021-01-26 23:15:43|            1.0|         1.27|       1.0|                 N|         239|         142|           1|        7.0|  0.5|    0.5|       1.0|         0.0|                  0.3|        11.8|                 2.5|       null|\n",
      "|       1| 2021-01-02 22:13:09|  2021-01-02 22:13:58|            0.0|          0.2|       1.0|                 N|         141|         141|           2|        3.0|  3.0|    0.5|       0.0|         0.0|                  0.3|         6.8|                 2.5|       null|\n",
      "|       2| 2021-01-17 12:48:59|  2021-01-17 13:07:13|            1.0|         4.03|       1.0|                 N|         161|         261|           1|       15.5|  0.0|    0.5|      3.76|         0.0|                  0.3|       22.56|                 2.5|       null|\n",
      "|       2| 2021-01-07 08:27:00|  2021-01-07 08:30:29|            1.0|         1.23|       1.0|                 N|         239|         151|           1|        5.5|  0.0|    0.5|      1.75|         0.0|                  0.3|       10.55|                 2.5|       null|\n",
      "|       2| 2021-01-20 17:53:43|  2021-01-20 18:03:17|            1.0|         2.72|       1.0|                 N|         163|         238|           1|       10.0|  1.0|    0.5|      2.86|         0.0|                  0.3|       17.16|                 2.5|       null|\n",
      "|       2| 2021-01-25 12:53:29|  2021-01-25 13:08:22|            1.0|         1.73|       1.0|                 N|         262|          75|           1|       11.0|  0.0|    0.5|      4.29|         0.0|                  0.3|       18.59|                 2.5|       null|\n",
      "|       2| 2021-01-21 12:43:02|  2021-01-21 12:49:06|            2.0|         1.82|       1.0|                 N|         113|          48|           1|        7.5|  0.0|    0.5|      2.16|         0.0|                  0.3|       12.96|                 2.5|       null|\n",
      "|       1| 2021-01-08 09:44:37|  2021-01-08 09:48:22|            1.0|          0.7|       1.0|                 N|          75|         236|           1|        4.5|  2.5|    0.5|       1.2|         0.0|                  0.3|         9.0|                 2.5|       null|\n",
      "|       2| 2021-01-04 13:35:16|  2021-01-04 13:58:44|            1.0|         7.92|       1.0|                 N|          87|         236|           1|       26.5|  0.0|    0.5|       2.0|         0.0|                  0.3|        31.8|                 2.5|       null|\n",
      "|       2| 2021-01-29 10:30:04|  2021-01-29 10:40:02|            1.0|         2.16|       1.0|                 N|         249|         230|           1|        9.5|  0.0|    0.5|       1.0|         0.0|                  0.3|        13.8|                 2.5|       null|\n",
      "|       2| 2021-01-12 11:05:53|  2021-01-12 11:20:37|            2.0|         2.42|       1.0|                 N|         229|          75|           1|       11.5|  0.0|    0.5|       3.0|         0.0|                  0.3|        17.8|                 2.5|       null|\n",
      "+--------+--------------------+---------------------+---------------+-------------+----------+------------------+------------+------------+------------+-----------+-----+-------+----------+------------+---------------------+------------+--------------------+-----------+\n",
      "only showing top 20 rows\n",
      "\n"
     ]
    }
   ],
   "source": [
    "df_yellow.show()"
   ]
  },
  {
   "cell_type": "code",
   "execution_count": 14,
   "id": "9d5be29d",
   "metadata": {},
   "outputs": [],
   "source": [
    "df_yellow_revenue = spark.sql(\"\"\"\n",
    "SELECT \n",
    "    date_trunc('hour', tpep_pickup_datetime) AS hour, \n",
    "    PULocationID AS zone,\n",
    "\n",
    "    SUM(total_amount) AS amount,\n",
    "    COUNT(1) AS number_records\n",
    "FROM\n",
    "    yellow\n",
    "GROUP BY\n",
    "    1, 2\n",
    "\"\"\")"
   ]
  },
  {
   "cell_type": "code",
   "execution_count": 15,
   "id": "fec5dbee",
   "metadata": {},
   "outputs": [
    {
     "name": "stdout",
     "output_type": "stream",
     "text": [
      "+-------------------+----+------------------+--------------+\n",
      "|               hour|zone|            amount|number_records|\n",
      "+-------------------+----+------------------+--------------+\n",
      "|2021-01-17 10:00:00| 262|            515.81|            35|\n",
      "|2021-01-08 14:00:00| 136|131.32999999999998|             3|\n",
      "|2021-01-25 20:00:00| 236|            670.61|            43|\n",
      "|2021-01-14 09:00:00| 186|1360.1600000000003|            98|\n",
      "|2021-01-21 14:00:00| 233|           1013.47|            58|\n",
      "|2021-01-05 16:00:00|  68| 834.6700000000001|            52|\n",
      "|2021-01-28 20:00:00| 161|1166.8000000000002|            78|\n",
      "|2021-01-26 11:00:00| 140|1933.4200000000003|           126|\n",
      "|2021-01-16 15:00:00| 236|2077.9700000000007|           159|\n",
      "|2021-01-02 17:00:00| 234|1595.1700000000003|            97|\n",
      "|2021-01-25 08:00:00| 238|           2202.65|           135|\n",
      "|2021-01-12 01:00:00|  74|             19.09|             2|\n",
      "|2021-01-04 11:00:00| 164| 806.6500000000001|            55|\n",
      "|2021-01-27 09:00:00| 239|           1712.88|           108|\n",
      "|2021-01-22 12:00:00| 142|1590.7900000000002|           110|\n",
      "|2021-01-11 18:00:00| 162|2780.0699999999997|           175|\n",
      "|2021-01-15 17:00:00| 132| 5735.289999999999|           107|\n",
      "|2021-01-06 07:00:00| 132|           2143.37|            38|\n",
      "|2021-01-28 16:00:00| 140| 2868.359999999999|           142|\n",
      "|2021-01-10 18:00:00| 236| 946.5700000000002|            74|\n",
      "+-------------------+----+------------------+--------------+\n",
      "only showing top 20 rows\n",
      "\n"
     ]
    }
   ],
   "source": [
    "df_yellow_revenue.show()"
   ]
  },
  {
   "cell_type": "code",
   "execution_count": 16,
   "id": "8bd9264e",
   "metadata": {},
   "outputs": [],
   "source": [
    "df_yellow_revenue \\\n",
    "    .repartition(20) \\\n",
    "    .write.parquet('../../data/report/revenue/yellow', mode='overwrite')"
   ]
  },
  {
   "cell_type": "code",
   "execution_count": 17,
   "id": "fd5d74d7",
   "metadata": {},
   "outputs": [],
   "source": [
    "df_green_revenue = spark.read.parquet('../../data/report/revenue/green')\n",
    "df_yellow_revenue = spark.read.parquet('../../data/report/revenue/yellow')"
   ]
  },
  {
   "cell_type": "code",
   "execution_count": 18,
   "id": "35015ee6",
   "metadata": {},
   "outputs": [],
   "source": [
    "df_green_revenue_tmp = df_green_revenue \\\n",
    "    .withColumnRenamed('amount', 'green_amount') \\\n",
    "    .withColumnRenamed('number_records', 'green_number_records')\n",
    "\n",
    "df_yellow_revenue_tmp = df_yellow_revenue \\\n",
    "    .withColumnRenamed('amount', 'yellow_amount') \\\n",
    "    .withColumnRenamed('number_records', 'yellow_number_records')"
   ]
  },
  {
   "cell_type": "code",
   "execution_count": 19,
   "id": "ec9f34ea",
   "metadata": {},
   "outputs": [],
   "source": [
    "df_join = df_green_revenue_tmp.join(df_yellow_revenue_tmp, on=['hour', 'zone'], how='outer')"
   ]
  },
  {
   "cell_type": "code",
   "execution_count": 20,
   "id": "10238be7",
   "metadata": {},
   "outputs": [],
   "source": [
    "df_join.write.parquet('../../data/report/revenue/total', mode='overwrite')"
   ]
  },
  {
   "cell_type": "code",
   "execution_count": 21,
   "id": "c3af7169",
   "metadata": {},
   "outputs": [],
   "source": [
    "df_join = spark.read.parquet('../../data/report/revenue/total')"
   ]
  },
  {
   "cell_type": "code",
   "execution_count": 22,
   "id": "bc2a6680",
   "metadata": {},
   "outputs": [
    {
     "data": {
      "text/plain": [
       "DataFrame[hour: timestamp, zone: bigint, green_amount: double, green_number_records: bigint, yellow_amount: double, yellow_number_records: bigint]"
      ]
     },
     "execution_count": 22,
     "metadata": {},
     "output_type": "execute_result"
    }
   ],
   "source": [
    "df_join"
   ]
  },
  {
   "cell_type": "code",
   "execution_count": 23,
   "id": "abb46398",
   "metadata": {},
   "outputs": [],
   "source": [
    "df_zones = spark.read.parquet('../../zones/')"
   ]
  },
  {
   "cell_type": "code",
   "execution_count": 24,
   "id": "b3cf98a5",
   "metadata": {},
   "outputs": [],
   "source": [
    "df_result = df_join.join(df_zones, df_join.zone == df_zones.LocationID)"
   ]
  },
  {
   "cell_type": "code",
   "execution_count": 26,
   "id": "9f5ca913",
   "metadata": {},
   "outputs": [
    {
     "name": "stdout",
     "output_type": "stream",
     "text": [
      "+-------------------+----+------------+--------------------+------------------+---------------------+----------+---------+--------------------+------------+\n",
      "|               hour|zone|green_amount|green_number_records|     yellow_amount|yellow_number_records|LocationID|  Borough|                Zone|service_zone|\n",
      "+-------------------+----+------------+--------------------+------------------+---------------------+----------+---------+--------------------+------------+\n",
      "|2008-12-31 23:00:00| 193|        null|                null|               0.0|                    1|       193|   Queens|Queensbridge/Rave...|   Boro Zone|\n",
      "|2009-01-01 00:00:00| 132|        null|                null|              14.3|                    1|       132|   Queens|         JFK Airport|    Airports|\n",
      "|2009-01-01 00:00:00| 188|        null|                null|              10.3|                    1|       188| Brooklyn|Prospect-Lefferts...|   Boro Zone|\n",
      "|2020-12-31 13:00:00| 170|        null|                null|             20.38|                    1|       170|Manhattan|         Murray Hill| Yellow Zone|\n",
      "|2020-12-31 18:00:00|  48|        null|                null|             55.14|                    3|        48|Manhattan|        Clinton East| Yellow Zone|\n",
      "|2020-12-31 23:00:00|  42|        null|                null|              24.8|                    1|        42|Manhattan|Central Harlem North|   Boro Zone|\n",
      "|2020-12-31 23:00:00|  43|        null|                null|              43.1|                    1|        43|Manhattan|        Central Park| Yellow Zone|\n",
      "|2020-12-31 23:00:00| 137|        null|                null|             14.12|                    1|       137|Manhattan|            Kips Bay| Yellow Zone|\n",
      "|2020-12-31 23:00:00| 163|        null|                null|             23.76|                    1|       163|Manhattan|       Midtown North| Yellow Zone|\n",
      "|2020-12-31 23:00:00| 231|        null|                null|              28.3|                    1|       231|Manhattan|TriBeCa/Civic Center| Yellow Zone|\n",
      "|2021-01-01 00:00:00|   4|        null|                null|              64.4|                    3|         4|Manhattan|       Alphabet City| Yellow Zone|\n",
      "|2021-01-01 00:00:00|  13|        null|                null|              73.9|                    3|        13|Manhattan|   Battery Park City| Yellow Zone|\n",
      "|2021-01-01 00:00:00|  17|      102.34|                   3|              32.3|                    2|        17| Brooklyn|             Bedford|   Boro Zone|\n",
      "|2021-01-01 00:00:00|  24|        null|                null|            120.54|                    7|        24|Manhattan|        Bloomingdale| Yellow Zone|\n",
      "|2021-01-01 00:00:00|  25|        null|                null|             19.04|                    1|        25| Brooklyn|         Boerum Hill|   Boro Zone|\n",
      "|2021-01-01 00:00:00|  28|        null|                null|             44.16|                    1|        28|   Queens|Briarwood/Jamaica...|   Boro Zone|\n",
      "|2021-01-01 00:00:00|  32|        null|                null|             30.32|                    1|        32|    Bronx|           Bronxdale|   Boro Zone|\n",
      "|2021-01-01 00:00:00|  39|        36.0|                   1|              null|                 null|        39| Brooklyn|            Canarsie|   Boro Zone|\n",
      "|2021-01-01 00:00:00|  41|         8.3|                   1| 94.78999999999999|                    5|        41|Manhattan|      Central Harlem|   Boro Zone|\n",
      "|2021-01-01 00:00:00|  43|         6.8|                   1|352.22999999999996|                   22|        43|Manhattan|        Central Park| Yellow Zone|\n",
      "+-------------------+----+------------+--------------------+------------------+---------------------+----------+---------+--------------------+------------+\n",
      "only showing top 20 rows\n",
      "\n"
     ]
    }
   ],
   "source": [
    "df_result.show()"
   ]
  },
  {
   "cell_type": "code",
   "execution_count": 27,
   "id": "36f2717b",
   "metadata": {},
   "outputs": [],
   "source": [
    "df_result.drop('LocationID', 'zone').write.parquet('../../tmp/revenue-zones', mode='overwrite')"
   ]
  }
 ],
 "metadata": {
  "kernelspec": {
   "display_name": "Python 3 (ipykernel)",
   "language": "python",
   "name": "python3"
  },
  "language_info": {
   "codemirror_mode": {
    "name": "ipython",
    "version": 3
   },
   "file_extension": ".py",
   "mimetype": "text/x-python",
   "name": "python",
   "nbconvert_exporter": "python",
   "pygments_lexer": "ipython3",
   "version": "3.10.12"
  }
 },
 "nbformat": 4,
 "nbformat_minor": 5
}
